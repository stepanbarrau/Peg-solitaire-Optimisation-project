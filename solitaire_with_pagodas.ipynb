{
 "cells": [
  {
   "cell_type": "code",
   "execution_count": 1,
   "metadata": {
    "colab": {
     "autoexec": {
      "startup": false,
      "wait_interval": 0
     },
     "base_uri": "https://localhost:8080/",
     "height": 34
    },
    "colab_type": "code",
    "executionInfo": {
     "elapsed": 2981,
     "status": "ok",
     "timestamp": 1528663507456,
     "user": {
      "displayName": "Stepan Barrau",
      "photoUrl": "//lh6.googleusercontent.com/-6Vn-43WzAj8/AAAAAAAAAAI/AAAAAAAAA8s/6qQmkMpPKfs/s50-c-k-no/photo.jpg",
      "userId": "111120117213502142987"
     },
     "user_tz": -120
    },
    "id": "1heyVwFeKT2S",
    "outputId": "f0fef02b-684a-4e55-a5eb-80264ccb4fb1"
   },
   "outputs": [
    {
     "name": "stdout",
     "output_type": "stream",
     "text": [
      "Requirement already satisfied: cvxopt in /usr/local/lib/python2.7/dist-packages (1.2.0)\r\n"
     ]
    }
   ],
   "source": [
    "!pip install cvxopt"
   ]
  },
  {
   "cell_type": "code",
   "execution_count": 0,
   "metadata": {
    "colab": {
     "autoexec": {
      "startup": false,
      "wait_interval": 0
     }
    },
    "colab_type": "code",
    "collapsed": true,
    "id": "Enz-H9ODNTcS"
   },
   "outputs": [],
   "source": [
    "import cvxopt.glpk\n",
    "import cvxopt as cv\n",
    "import numpy as np\n",
    "import time\n",
    "np.set_printoptions(threshold=10)\n"
   ]
  },
  {
   "cell_type": "markdown",
   "metadata": {
    "colab_type": "text",
    "id": "Ovv7orujOmgQ"
   },
   "source": [
    "## Peg Solitaire, with the formalism of Masashi KIYOMI and Tomomi MATSUI"
   ]
  },
  {
   "cell_type": "markdown",
   "metadata": {
    "colab_type": "text",
    "id": "-YC9j8thQppk"
   },
   "source": [
    "We will use the formalism from the paper by Masashi KIYOMI and Tomomi MATSUI.\n",
    "\n",
    "A position of the pegs on the board will be represented by a dimension n = 33 vector.\n",
    "\n",
    "We will build the matrix *moves* (called *A* in the paper), which contains al possible moves.\n",
    "\n",
    "*aij* is :\n",
    "* 1 iff the peg i is removed by the move j\n",
    "* -1 iff it is added\n",
    "* 0 in other cases.\n",
    "\n",
    "\n",
    "\n"
   ]
  },
  {
   "cell_type": "code",
   "execution_count": 0,
   "metadata": {
    "colab": {
     "autoexec": {
      "startup": false,
      "wait_interval": 0
     }
    },
    "colab_type": "code",
    "collapsed": true,
    "id": "AKYke29vNy3S"
   },
   "outputs": [],
   "source": [
    "#here we build moves\n",
    "A = np.zeros((33, 76))\n",
    "A[0][0] = 1\n",
    "A[3][0] = 1\n",
    "A[8][0] = -1\n",
    "\n",
    "A[1][1] = 1\n",
    "A[4][1] = 1\n",
    "A[9][1] = -1\n",
    "\n",
    "A[2][2] = 1\n",
    "A[5][2] = 1\n",
    "A[10][2] = -1\n",
    "\n",
    "A[3][3] = 1\n",
    "A[8][3] = 1\n",
    "A[15][3] = -1\n",
    "\n",
    "A[4][4] = 1\n",
    "A[9][4] = 1\n",
    "A[16][4] = -1\n",
    "\n",
    "A[5][5] = 1\n",
    "A[10][5] = 1\n",
    "A[17][5] = -1\n",
    "\n",
    "A[22][13] = 1\n",
    "A[27][13] = 1\n",
    "A[30][13] = -1\n",
    "\n",
    "A[23][14] = 1\n",
    "A[28][14] = 1\n",
    "A[31][14] = -1\n",
    "\n",
    "A[24][15] = 1\n",
    "A[29][15] = 1\n",
    "A[32][15] = -1\n",
    "\n",
    "A[15][16] = 1\n",
    "A[22][16] = 1\n",
    "A[27][16] = -1\n",
    "\n",
    "A[16][17] = 1\n",
    "A[23][17] = 1\n",
    "A[28][17] = -1\n",
    "\n",
    "A[17][18] = 1\n",
    "A[24][18] = 1\n",
    "A[29][18] = -1\n",
    "\n",
    "for j in range(7):\n",
    "  A[6 + j][6 + j] = 1\n",
    "  A[13 + j][6 + j] = 1\n",
    "  A[20+j][6+j] = -1\n",
    "\n",
    "  \n",
    "A[0][34] = 1\n",
    "A[1][34] = 1\n",
    "A[2][34] = -1\n",
    "\n",
    "A[3][35] = 1\n",
    "A[4][35] = 1\n",
    "A[5][35] = -1\n",
    "\n",
    "A[27][36] = 1\n",
    "A[28][36] = 1\n",
    "A[29][36] = -1\n",
    "\n",
    "A[30][37] = 1\n",
    "A[31][37] = 1\n",
    "A[32][37] = -1\n",
    "\n",
    "for j in range(5):\n",
    "  A[6 + j][19 + j] = 1\n",
    "  A[7 + j][19 + j] = 1\n",
    "  A[8+j][19+j] = -1\n",
    "for j in range(5):\n",
    "  A[13 + j][24 + j] = 1\n",
    "  A[14 + j][24 + j] = 1\n",
    "  A[15+j][24+j] = -1\n",
    "for j in range(5):\n",
    "  A[20 + j][29 + j] = 1\n",
    "  A[21 + j][29 + j] = 1\n",
    "  A[22+j][29+j] = -1\n",
    "  \n",
    "\n",
    "A[0][0+38] = -1\n",
    "A[3][0+38] = 1\n",
    "A[8][0+38] = 1\n",
    "\n",
    "A[1][1+38] = -1\n",
    "A[4][1+38] = 1\n",
    "A[9][1+38] = 1\n",
    "\n",
    "A[2][2+38] = -1\n",
    "A[5][2+38] = 1\n",
    "A[10][2+38] =1\n",
    "\n",
    "A[3][3+38] = -1\n",
    "A[8][3+38] = 1\n",
    "A[15][3+38] = 1\n",
    "\n",
    "A[4][4+38] = -1\n",
    "A[9][4+38] = 1\n",
    "A[16][4+38] = 1\n",
    "\n",
    "A[5][5+38] = -1\n",
    "A[10][5+38] = 1\n",
    "A[17][5+38] = 1\n",
    "\n",
    "A[22][13+38] = -1\n",
    "A[27][13+38] = 1\n",
    "A[30][13+38] = 1\n",
    "\n",
    "A[23][14+38] = -1\n",
    "A[28][14+38] = 1\n",
    "A[31][14+38] = 1\n",
    "\n",
    "A[24][15+38] = -1\n",
    "A[29][15+38] = 1\n",
    "A[32][15+38] = 1\n",
    "\n",
    "A[15][16+38] = -1\n",
    "A[22][16+38] = 1\n",
    "A[27][16+38] = 1\n",
    "\n",
    "A[16][17+38] = -1\n",
    "A[23][17+38] = 1\n",
    "A[28][17+38] = 1\n",
    "\n",
    "A[17][18+38] = -1\n",
    "A[24][18+38] = 1\n",
    "A[29][18+38] = 1\n",
    "\n",
    "for j in range(7):\n",
    "  A[6 + j][6 + j+38] = -1\n",
    "  A[13 + j][6 + j+38] = 1\n",
    "  A[20+j][6+j+38] = 1\n",
    "\n",
    "  \n",
    "A[0][34+38] = -1\n",
    "A[1][34+38] = 1\n",
    "A[2][34+38] = 1\n",
    "\n",
    "A[3][35+38] = -1\n",
    "A[4][35+38] = 1\n",
    "A[5][35+38] = 1\n",
    "\n",
    "A[27][36+38] = -1\n",
    "A[28][36+38] = 1\n",
    "A[29][36+38] = 1\n",
    "\n",
    "A[30][37+38] = -1\n",
    "A[31][37+38] = 1\n",
    "A[32][37+38] = 1\n",
    "\n",
    "for j in range(5):\n",
    "  A[6 + j][19 + j+38] = -1\n",
    "  A[7 + j][19 + j+38] = 1\n",
    "  A[8+j][19+j+38] = 1\n",
    "for j in range(5):\n",
    "  A[13 + j][24 + j+38] = -1\n",
    "  A[14 + j][24 + j+38] = 1\n",
    "  A[15+j][24+j+38] = 1\n",
    "for j in range(5):\n",
    "  A[20 + j][29 + j+38] = -1\n",
    "  A[21 + j][29 + j+38] = 1\n",
    "  A[22+j][29+j+38] = 1\n",
    "  \n",
    "\n",
    "#-----------------------\n",
    "#and so we have\n",
    "\n",
    "moves = A\n",
    "#m = nb of moves\n",
    "m = 76\n",
    "#n = nb of holes\n",
    "n = 33"
   ]
  },
  {
   "cell_type": "markdown",
   "metadata": {
    "colab_type": "text",
    "id": "5-tPD4jMVnd6"
   },
   "source": [
    "We will call *L* the number of moves necessary to finish the puzzle. \n",
    "\n",
    "We will call *m* = 76 the number of possible moves (which are listed in the matrix *A*).\n",
    "\n",
    "The solution to the problem is in the form of (*x1...xl*), and every *xi* is a unit vector of dimension *m* (*xi* [*j*] = 1 iff the move number *i*  in the winning sequence is the move number *j* in *A*)"
   ]
  },
  {
   "cell_type": "code",
   "execution_count": 0,
   "metadata": {
    "colab": {
     "autoexec": {
      "startup": false,
      "wait_interval": 0
     }
    },
    "colab_type": "code",
    "collapsed": true,
    "id": "plUtWqqEO9XP"
   },
   "outputs": [],
   "source": [
    "def calculate_L(ps,pf):\n",
    "  return(int(np.sum(ps-pf)))"
   ]
  },
  {
   "cell_type": "markdown",
   "metadata": {
    "colab_type": "text",
    "id": "B623cVdvVp3Z"
   },
   "source": [
    "G and h will contain the conditions which correspond to the following rules : \n",
    "* it is forbidden to take a peg from a hole which does not contain one (* 0 <= ps - Ax*)\n",
    "* it is forbidden to place a peg on top of another (*ps-Ax <= 1*)\n",
    "\n",
    "In other words, the intermediary positions must be made up of vectors which contain only 1s and 0s\n",
    "\n",
    "The matrix G is 2 112 : 2 432"
   ]
  },
  {
   "cell_type": "code",
   "execution_count": 0,
   "metadata": {
    "colab": {
     "autoexec": {
      "startup": false,
      "wait_interval": 0
     }
    },
    "colab_type": "code",
    "collapsed": true,
    "id": "5KZ7p4ilagzF"
   },
   "outputs": [],
   "source": [
    "def generate_G_and_h(ps, pf) : \n",
    "  L = calculate_L(ps, pf)\n",
    "  G = np.zeros((2*L*n,m*L))\n",
    "  h = np.zeros(n*L*2)\n",
    "  #this is to create a lower block triangle matrix, with each block being moves\n",
    "  for i in range(L):\n",
    "    for j in range(i+1):\n",
    "      G[i*n:(i+1)*n, m*j : m*(j+1)] = moves\n",
    "  #we do so twice (once for 0< and again for <1)\n",
    "  for i in range(L):\n",
    "    for j in range(i+1):\n",
    "      G[(i+L)*n:(i+L+1)*n, m*j : m*(j+1)] = -1*moves\n",
    "  #Ax <= ps\n",
    "  for i in range(L):\n",
    "    h[i*n : (i+1)*n] = ps\n",
    "  #-Ax <= 1-ps\n",
    "  for i in range(L, 2*L):\n",
    "    h[i*n : (i+1)*n] = np.ones(n) - ps\n",
    "  return(G, h)\n",
    "\n"
   ]
  },
  {
   "cell_type": "markdown",
   "metadata": {
    "colab_type": "text",
    "id": "dZv3ly3EWldH"
   },
   "source": [
    "A and b will contain the constraints that correspond to the following rules : \n",
    "* exacly one move is played each turn\n",
    "* the starting position is ps and the end position is pf\n",
    "\n",
    "The matrix A is 64 : 2432"
   ]
  },
  {
   "cell_type": "code",
   "execution_count": 0,
   "metadata": {
    "colab": {
     "autoexec": {
      "startup": false,
      "wait_interval": 0
     }
    },
    "colab_type": "code",
    "collapsed": true,
    "id": "wkUTyS8xNETh"
   },
   "outputs": [],
   "source": [
    "def generate_A_and_b(ps, pf):\n",
    "  #ps and pf must be np.arrays\n",
    "  L = calculate_L(ps, pf)\n",
    "  A = np.zeros((L + n, m*L))\n",
    "  b = np.zeros(L+n)\n",
    "  #those lines correspond to the condition there is exacly one move per turn\n",
    "  for i in range(L):\n",
    "\n",
    "    A[i,m*i : m*(i+1)] = np.ones(m)\n",
    "    \n",
    "  b[:L] = np.ones(L)\n",
    "  #those lines correspond to the condition that we start in position ps and end in pf\n",
    "  for i in range(L):\n",
    "    A[L:L+n, m*i : m*(i+1)] = moves\n",
    "  b[L:] = (ps-pf)\n",
    "  return(A, b)"
   ]
  },
  {
   "cell_type": "markdown",
   "metadata": {
    "colab_type": "text",
    "id": "LkfAPL05FtrS"
   },
   "source": [
    "Because we are only interested in the existence of a solution, the cost is irrelevant, and we set it to 1"
   ]
  },
  {
   "cell_type": "code",
   "execution_count": 0,
   "metadata": {
    "colab": {
     "autoexec": {
      "startup": false,
      "wait_interval": 0
     }
    },
    "colab_type": "code",
    "collapsed": true,
    "id": "bI1p-_dfFWZi"
   },
   "outputs": [],
   "source": [
    "def generate_c(ps, pf):\n",
    "  L = calculate_L(ps, pf)\n",
    "  return(np.ones(m*L))"
   ]
  },
  {
   "cell_type": "code",
   "execution_count": 0,
   "metadata": {
    "colab": {
     "autoexec": {
      "startup": false,
      "wait_interval": 0
     }
    },
    "colab_type": "code",
    "collapsed": true,
    "id": "npxMaBjmGIip"
   },
   "outputs": [],
   "source": [
    "def solve_solitaire(ps, pf):\n",
    "  L = calculate_L(ps, pf)\n",
    "  G , h= generate_G_and_h(ps, pf)\n",
    "  A , b= generate_A_and_b(ps, pf)\n",
    "  c = generate_c(ps, pf)\n",
    "    \n",
    "  A = cv.matrix(A)\n",
    "  G = cv.matrix(G)\n",
    "  h = cv.matrix(h)\n",
    "  b = cv.matrix(b)\n",
    "  c = cv.matrix(c)\n",
    "    \n",
    "  I = set([])\n",
    "  B = set(range(m*L))\n",
    "  return(cvxopt.glpk.ilp(c, G, h, A, b, I, B))"
   ]
  },
  {
   "cell_type": "markdown",
   "metadata": {
    "colab_type": "text",
    "id": "3-h5cL7hYu5R"
   },
   "source": [
    "#### Now we test the algorithm on a few easy cases"
   ]
  },
  {
   "cell_type": "markdown",
   "metadata": {
    "colab_type": "text",
    "id": "B47lP8HqxRMF"
   },
   "source": [
    "For a one move problem, the solution  is found"
   ]
  },
  {
   "cell_type": "code",
   "execution_count": 0,
   "metadata": {
    "colab": {
     "autoexec": {
      "startup": false,
      "wait_interval": 0
     }
    },
    "colab_type": "code",
    "collapsed": true,
    "id": "EtEVp6RlYyx6"
   },
   "outputs": [],
   "source": [
    "ps = np.ones(33)\n",
    "ps[16] = 0\n",
    "pf = np.ones(33)\n",
    "pf[18] = 0\n",
    "pf[17] = 0"
   ]
  },
  {
   "cell_type": "code",
   "execution_count": 10,
   "metadata": {
    "colab": {
     "autoexec": {
      "startup": false,
      "wait_interval": 0
     },
     "base_uri": "https://localhost:8080/",
     "height": 69
    },
    "colab_type": "code",
    "executionInfo": {
     "elapsed": 655,
     "status": "ok",
     "timestamp": 1528663514458,
     "user": {
      "displayName": "Stepan Barrau",
      "photoUrl": "//lh6.googleusercontent.com/-6Vn-43WzAj8/AAAAAAAAAAI/AAAAAAAAA8s/6qQmkMpPKfs/s50-c-k-no/photo.jpg",
      "userId": "111120117213502142987"
     },
     "user_tz": -120
    },
    "id": "GPumkx-kYugO",
    "outputId": "320f04b0-d408-406d-94f7-2343452b5678"
   },
   "outputs": [
    {
     "name": "stdout",
     "output_type": "stream",
     "text": [
      "('optimal', <76x1 matrix, tc='d'>)\n",
      "[17, 18]\n",
      "[16]\n"
     ]
    }
   ],
   "source": [
    "#here we print the moves : it shows three of holes : the one we take the peg from, the one it jumps over, and where it lands (on its own line)\n",
    "a = solve_solitaire(ps, pf)\n",
    "print(a)\n",
    "a = a[1]\n",
    "solution = [i%76 for i in range(len(a)) if a[i] == 1.0]\n",
    "for j in solution:\n",
    "  print([i for i in range(len(moves)) if moves[i,j] == 1.0])\n",
    "  print([i for i in range(len(moves)) if moves[i,j] == -1.0])"
   ]
  },
  {
   "cell_type": "markdown",
   "metadata": {
    "colab_type": "text",
    "id": "XkjKla1fxVBU"
   },
   "source": [
    "For a 2 move problem it works as well"
   ]
  },
  {
   "cell_type": "code",
   "execution_count": 0,
   "metadata": {
    "colab": {
     "autoexec": {
      "startup": false,
      "wait_interval": 0
     }
    },
    "colab_type": "code",
    "collapsed": true,
    "id": "14zhqJFExX4w"
   },
   "outputs": [],
   "source": [
    "ps = np.ones(33)\n",
    "ps[16] = 0\n",
    "pf = np.ones(33)\n",
    "pf[27] = 0\n",
    "pf[22] = 0\n",
    "pf[14]= 0"
   ]
  },
  {
   "cell_type": "code",
   "execution_count": 12,
   "metadata": {
    "colab": {
     "autoexec": {
      "startup": false,
      "wait_interval": 0
     },
     "base_uri": "https://localhost:8080/",
     "height": 104
    },
    "colab_type": "code",
    "executionInfo": {
     "elapsed": 563,
     "status": "ok",
     "timestamp": 1528663516343,
     "user": {
      "displayName": "Stepan Barrau",
      "photoUrl": "//lh6.googleusercontent.com/-6Vn-43WzAj8/AAAAAAAAAAI/AAAAAAAAA8s/6qQmkMpPKfs/s50-c-k-no/photo.jpg",
      "userId": "111120117213502142987"
     },
     "user_tz": -120
    },
    "id": "V89ffB1mxvuQ",
    "outputId": "36232607-61c9-4d87-d3bb-6f77f6c4f9f3"
   },
   "outputs": [
    {
     "name": "stdout",
     "output_type": "stream",
     "text": [
      "('optimal', <152x1 matrix, tc='d'>)\n",
      "[14, 15]\n",
      "[16]\n",
      "[22, 27]\n",
      "[15]\n"
     ]
    }
   ],
   "source": [
    "#here we print the moves : it shows three of holes : the one we take the peg from, the one it jumps over, and where it lands (on its own line)\n",
    "a = solve_solitaire(ps, pf)\n",
    "print(a)\n",
    "a = a[1]\n",
    "solution = [i%76 for i in range(len(a)) if a[i] == 1.0]\n",
    "for j in solution:\n",
    "  print([i for i in range(len(moves)) if moves[i,j] == 1.0])\n",
    "  print([i for i in range(len(moves)) if moves[i,j] == -1.0])"
   ]
  },
  {
   "cell_type": "markdown",
   "metadata": {
    "colab_type": "text",
    "id": "hZK7hlQg0f3U"
   },
   "source": [
    "For a 4 moves"
   ]
  },
  {
   "cell_type": "code",
   "execution_count": 0,
   "metadata": {
    "colab": {
     "autoexec": {
      "startup": false,
      "wait_interval": 0
     }
    },
    "colab_type": "code",
    "collapsed": true,
    "id": "7HNF0fZc1AkE"
   },
   "outputs": [],
   "source": [
    "ps = np.ones(33)\n",
    "ps[16] = 0\n",
    "pf = np.ones(33)\n",
    "pf[3] = 0\n",
    "pf[8] = 0\n",
    "pf[16]= 0\n",
    "pf[14]= 0\n",
    "pf[13]= 0"
   ]
  },
  {
   "cell_type": "code",
   "execution_count": 14,
   "metadata": {
    "colab": {
     "autoexec": {
      "startup": false,
      "wait_interval": 0
     },
     "base_uri": "https://localhost:8080/",
     "height": 173
    },
    "colab_type": "code",
    "executionInfo": {
     "elapsed": 702,
     "status": "ok",
     "timestamp": 1528663518417,
     "user": {
      "displayName": "Stepan Barrau",
      "photoUrl": "//lh6.googleusercontent.com/-6Vn-43WzAj8/AAAAAAAAAAI/AAAAAAAAA8s/6qQmkMpPKfs/s50-c-k-no/photo.jpg",
      "userId": "111120117213502142987"
     },
     "user_tz": -120
    },
    "id": "OI1OIZXx1DOl",
    "outputId": "7000c42c-64fe-495b-f4ce-682b85f655ef"
   },
   "outputs": [
    {
     "name": "stdout",
     "output_type": "stream",
     "text": [
      "('optimal', <304x1 matrix, tc='d'>)\n",
      "[14, 15]\n",
      "[16]\n",
      "[3, 8]\n",
      "[15]\n",
      "[15, 16]\n",
      "[14]\n",
      "[13, 14]\n",
      "[15]\n"
     ]
    }
   ],
   "source": [
    "#here we print the moves : it shows three of holes : the one we take the peg from, the one it jumps over, and where it lands (on its own line)\n",
    "a = solve_solitaire(ps, pf)\n",
    "print(a)\n",
    "a = a[1]\n",
    "solution = [i%76 for i in range(len(a)) if a[i] == 1.0]\n",
    "for j in solution:\n",
    "  print([i for i in range(len(moves)) if moves[i,j] == 1.0])\n",
    "  print([i for i in range(len(moves)) if moves[i,j] == -1.0])"
   ]
  },
  {
   "cell_type": "markdown",
   "metadata": {
    "colab_type": "text",
    "id": "AXeW2NlOAkf7"
   },
   "source": [
    "for a few more moves"
   ]
  },
  {
   "cell_type": "code",
   "execution_count": 0,
   "metadata": {
    "colab": {
     "autoexec": {
      "startup": false,
      "wait_interval": 0
     }
    },
    "colab_type": "code",
    "collapsed": true,
    "id": "yfvPC9SsAe85"
   },
   "outputs": [],
   "source": [
    "ps = np.ones(33)\n",
    "ps[16] = 0\n",
    "pf = np.ones(33)\n",
    "pf[0 : 6] = np.zeros(6)\n",
    "pf[8] = 0\n",
    "pf[9]= 0\n",
    "pf[10]= 0\n",
    "pf[16]= 0"
   ]
  },
  {
   "cell_type": "code",
   "execution_count": 16,
   "metadata": {
    "colab": {
     "autoexec": {
      "startup": false,
      "wait_interval": 0
     },
     "base_uri": "https://localhost:8080/",
     "height": 345
    },
    "colab_type": "code",
    "executionInfo": {
     "elapsed": 2013,
     "status": "ok",
     "timestamp": 1528663521872,
     "user": {
      "displayName": "Stepan Barrau",
      "photoUrl": "//lh6.googleusercontent.com/-6Vn-43WzAj8/AAAAAAAAAAI/AAAAAAAAA8s/6qQmkMpPKfs/s50-c-k-no/photo.jpg",
      "userId": "111120117213502142987"
     },
     "user_tz": -120
    },
    "id": "jxodMVtmAg-b",
    "outputId": "ef567954-bd79-4ce4-a8d1-9d41211eae1f"
   },
   "outputs": [
    {
     "name": "stdout",
     "output_type": "stream",
     "text": [
      "('optimal', <684x1 matrix, tc='d'>)\n",
      "[4, 9]\n",
      "[16]\n",
      "[10, 11]\n",
      "[9]\n",
      "[9, 16]\n",
      "[4]\n",
      "[7, 8]\n",
      "[9]\n",
      "[2, 5]\n",
      "[10]\n",
      "[0, 3]\n",
      "[8]\n",
      "[9, 10]\n",
      "[11]\n",
      "[1, 4]\n",
      "[9]\n",
      "[8, 9]\n",
      "[7]\n"
     ]
    }
   ],
   "source": [
    "#here we print the moves : it shows three of holes : the one we take the peg from, the one it jumps over, and where it lands (on its own line)\n",
    "a = solve_solitaire(ps, pf)\n",
    "print(a)\n",
    "a = a[1]\n",
    "solution = [i%76 for i in range(len(a)) if a[i] == 1.0]\n",
    "for j in solution:\n",
    "  print([i for i in range(len(moves)) if moves[i,j] == 1.0])\n",
    "  print([i for i in range(len(moves)) if moves[i,j] == -1.0])"
   ]
  },
  {
   "cell_type": "markdown",
   "metadata": {
    "colab_type": "text",
    "id": "wU1AgGdRF4NN"
   },
   "source": [
    "#### Now we test the algorithm with the original problem"
   ]
  },
  {
   "cell_type": "markdown",
   "metadata": {
    "colab_type": "text",
    "id": "4U8tewcJ5YFA"
   },
   "source": [
    "As expected, it takes too much time"
   ]
  },
  {
   "cell_type": "code",
   "execution_count": 0,
   "metadata": {
    "colab": {
     "autoexec": {
      "startup": false,
      "wait_interval": 0
     }
    },
    "colab_type": "code",
    "collapsed": true,
    "id": "0PsRDnp8khZT"
   },
   "outputs": [],
   "source": [
    "ps = np.ones(33)\n",
    "ps[16] = 0\n",
    "pf = np.zeros(33)\n",
    "pf[16] = 1"
   ]
  },
  {
   "cell_type": "code",
   "execution_count": 0,
   "metadata": {
    "colab": {
     "autoexec": {
      "startup": false,
      "wait_interval": 0
     }
    },
    "colab_type": "code",
    "collapsed": true,
    "id": "cVIDZfyIF-6S"
   },
   "outputs": [],
   "source": [
    "solve_solitaire(ps, pf)"
   ]
  },
  {
   "cell_type": "markdown",
   "metadata": {
    "colab_type": "text",
    "id": "r23qtVYEmu8o"
   },
   "source": [
    "### Improving performance using Pagoda functions."
   ]
  },
  {
   "cell_type": "markdown",
   "metadata": {
    "colab_type": "text",
    "id": "OM1sR7wOm9WX"
   },
   "source": [
    "In an effort to reduce the size of the branch-and-bound tree, we try to add the constraint that every step's Pagoda value must be higher than *pf*'s.\n",
    "\n",
    "Adding a Pagoda function constraint only requires adding n lines (one for every turn) to G and h, but it does not reduce the tree by a large amount. This is why we wanted to try adding several."
   ]
  },
  {
   "cell_type": "code",
   "execution_count": 0,
   "metadata": {
    "colab": {
     "autoexec": {
      "startup": false,
      "wait_interval": 0
     }
    },
    "colab_type": "code",
    "collapsed": true,
    "id": "pN2wtJKJm8F4"
   },
   "outputs": [],
   "source": [
    "def generate_G_and_h_with_pagoda(pagodas, ps, pf) : \n",
    "  nb_pagodas = len(pagodas)\n",
    "  L = calculate_L(ps, pf)\n",
    "  G = np.zeros((2*L*n + nb_pagodas*n,m*L))\n",
    "  h = np.zeros(n*L*2+nb_pagodas*n)\n",
    "  #this is to create a lower block triangle matrix, with each block being moves\n",
    "  for i in range(L):\n",
    "    for j in range(i+1):\n",
    "      G[i*n:(i+1)*n, m*j : m*(j+1)] = moves\n",
    "  #we do so twice (once for 0< and again for <1)\n",
    "  for i in range(L):\n",
    "    for j in range(i+1):\n",
    "      G[(i+L)*n:(i+L+1)*n, m*j : m*(j+1)] = -1*moves\n",
    "  #Ax <= ps\n",
    "  for i in range(L):\n",
    "    h[i*n : (i+1)*n] = ps\n",
    "  #-Ax <= 1-ps\n",
    "  for i in range(L, 2*L):\n",
    "    h[i*n : (i+1)*n] = np.ones(n) - ps\n",
    "    \n",
    "  #this is to create the pagoda constraints\n",
    "  for k in range(len(pagodas)):\n",
    "    dot_product = np.dot(pagodas[k] , moves)\n",
    "    for i in range(L-1):\n",
    "      for j in range(i+1):\n",
    "        G[(2*L + k*L + i), m*j : m*(j+1)] = 1*dot_product-np.dot(pagodas[k], ps)\n",
    "    for i in range(L-1):\n",
    "      h[2*L + k*L + i] = 1*np.dot(pagodas[k], pf)-np.dot(pagodas[k], ps)\n",
    "  return(G, h)"
   ]
  },
  {
   "cell_type": "code",
   "execution_count": 0,
   "metadata": {
    "colab": {
     "autoexec": {
      "startup": false,
      "wait_interval": 0
     }
    },
    "colab_type": "code",
    "collapsed": true,
    "id": "Py2aAI_iI1c8"
   },
   "outputs": [],
   "source": [
    "def solve_solitaire_with_pagoda(pagodas, ps, pf):\n",
    "  L = calculate_L(ps, pf)\n",
    "  G , h= generate_G_and_h_with_pagoda(pagodas, ps, pf)\n",
    "  A , b= generate_A_and_b(ps, pf)\n",
    "  c = generate_c(ps, pf)\n",
    "  \n",
    "  \n",
    "  A = cv.matrix(A)\n",
    "  G = cv.matrix(G)\n",
    "  h = cv.matrix(h)\n",
    "  b = cv.matrix(b)\n",
    "  c = cv.matrix(c)\n",
    "    \n",
    "  I = set([])\n",
    "  B = set(range(m*L))\n",
    "  return(cvxopt.glpk.ilp(c, G, h, A, b, I, B))"
   ]
  },
  {
   "cell_type": "markdown",
   "metadata": {
    "colab_type": "text",
    "id": "Y9Xp8p93JB3A"
   },
   "source": [
    "We check that with an empty list of pagodas, it works the same as before"
   ]
  },
  {
   "cell_type": "code",
   "execution_count": 0,
   "metadata": {
    "colab": {
     "autoexec": {
      "startup": false,
      "wait_interval": 0
     }
    },
    "colab_type": "code",
    "collapsed": true,
    "id": "le0tp4NaJIZF"
   },
   "outputs": [],
   "source": [
    "ps = np.ones(33)\n",
    "ps[16] = 0\n",
    "pf = np.ones(33)\n",
    "pf[27] = 0\n",
    "pf[22] = 0\n",
    "pf[14]= 0"
   ]
  },
  {
   "cell_type": "code",
   "execution_count": 22,
   "metadata": {
    "colab": {
     "autoexec": {
      "startup": false,
      "wait_interval": 0
     },
     "base_uri": "https://localhost:8080/",
     "height": 104
    },
    "colab_type": "code",
    "executionInfo": {
     "elapsed": 1111,
     "status": "ok",
     "timestamp": 1528663527894,
     "user": {
      "displayName": "Stepan Barrau",
      "photoUrl": "//lh6.googleusercontent.com/-6Vn-43WzAj8/AAAAAAAAAAI/AAAAAAAAA8s/6qQmkMpPKfs/s50-c-k-no/photo.jpg",
      "userId": "111120117213502142987"
     },
     "user_tz": -120
    },
    "id": "B9Xe7osOJKqR",
    "outputId": "b16d7500-2e17-47d7-8380-b32f0340a541"
   },
   "outputs": [
    {
     "name": "stdout",
     "output_type": "stream",
     "text": [
      "('optimal', <152x1 matrix, tc='d'>)\n",
      "[14, 15]\n",
      "[16]\n",
      "[22, 27]\n",
      "[15]\n"
     ]
    }
   ],
   "source": [
    "#here we print the moves : it shows three of holes : the one we take the peg from, the one it jumps over, and where it lands (on its own line)\n",
    "a = solve_solitaire_with_pagoda([], ps, pf)\n",
    "print(a)\n",
    "a = a[1]\n",
    "solution = [i%76 for i in range(len(a)) if a[i] == 1.0]\n",
    "for j in solution:\n",
    "  print([i for i in range(len(moves)) if moves[i,j] == 1.0])\n",
    "  print([i for i in range(len(moves)) if moves[i,j] == -1.0])"
   ]
  },
  {
   "cell_type": "markdown",
   "metadata": {
    "colab_type": "text",
    "id": "12GB2BkhJOyf"
   },
   "source": [
    "It does.\n",
    "\n",
    "Now we try adding pagodas"
   ]
  },
  {
   "cell_type": "code",
   "execution_count": 0,
   "metadata": {
    "colab": {
     "autoexec": {
      "startup": false,
      "wait_interval": 0
     }
    },
    "colab_type": "code",
    "collapsed": true,
    "id": "YaoHT3PWJQNY"
   },
   "outputs": [],
   "source": [
    "#those are the pagodas found in both papers\n",
    "pagoda1 = [-.3,.4,0.,1.,0.,1.,.5,0.,.5,.4,.1,.3,-.1,0.,.9,.7,.3,.9,1.1,.4,.5,.6,.1,.5,.2,.6,.2,.8,0.,.8,0.,.5,-.2]\n",
    "pagoda2 = [0.,0.,0.,0.,1.,0.,0.,0.,0.,0.,0.,0.,0.,0.,1.,0.,1.,0.,1.,0.,0.,0.,0.,0.,0.,0.,0.,0.,1.,0.,0.,0.,0.]\n",
    "pagoda3 = [0.,1.,0.,0.,0.,0.,0.,1.,0.,1.,0.,1.,0.,0.,0.,0.,0.,0.,0.,0.,0.,1.,0.,1.,0.,1.,0.,0.,0.,0.,0.,1.,0.]\n",
    "pagoda4 = [1.,0.,1.,0.,0.,0.,1.,0.,1.,0.,1.,0.,1.,0.,0.,0.,0.,0.,0.,0.,1.,0.,1.,0.,1.,0.,1.,0.,0.,0.,1.,0.,1.]\n",
    "pagoda5 = [ 0, 0,  0, 0, 1, 0, -1, 1, 0, 1, 0, 1, -1 , 0,  0, 0, 0, 0, 0,  0 ,-1, 1, 0, 1, 0, 1, -1,0, 1, 0 ,0, 0, 0 ]\n",
    "pagoda6 = [  -1, 0, -1,1, 0, 1,0, 0, 0, 0, 0, 0, 0, 0, 1, 1, 0, 1, 1, 0,  0, 0, 0, 0, 0, 0, 0, 1, 0, 1, -1, 0, -1]\n",
    "pagoda7 = [ 0, 0, 0,1, 0, 1, 0,  0, 0, 0, 0, 0,  0 ,1,  0, 1, 0, 1, 0,  1, 0,  0, 0, 0, 0, 0,  0,1, 0, 1,0, 0, 0,]\n",
    "\n",
    "\n",
    "pagodas =[pagoda1, pagoda2, pagoda3, pagoda4]\n"
   ]
  },
  {
   "cell_type": "code",
   "execution_count": 0,
   "metadata": {
    "colab": {
     "autoexec": {
      "startup": false,
      "wait_interval": 0
     }
    },
    "colab_type": "code",
    "collapsed": true,
    "id": "EmEQesjpLgUW"
   },
   "outputs": [],
   "source": [
    "ps = np.ones(33)\n",
    "ps[16] = 0\n",
    "pf = np.ones(33)\n",
    "pf[27] = 0\n",
    "pf[22] = 0\n",
    "pf[14]= 0"
   ]
  },
  {
   "cell_type": "code",
   "execution_count": 25,
   "metadata": {
    "colab": {
     "autoexec": {
      "startup": false,
      "wait_interval": 0
     },
     "base_uri": "https://localhost:8080/",
     "height": 104
    },
    "colab_type": "code",
    "executionInfo": {
     "elapsed": 458,
     "status": "ok",
     "timestamp": 1528663530871,
     "user": {
      "displayName": "Stepan Barrau",
      "photoUrl": "//lh6.googleusercontent.com/-6Vn-43WzAj8/AAAAAAAAAAI/AAAAAAAAA8s/6qQmkMpPKfs/s50-c-k-no/photo.jpg",
      "userId": "111120117213502142987"
     },
     "user_tz": -120
    },
    "id": "oV2gSidZLafM",
    "outputId": "85c6e579-0682-4b7f-bc6e-ea70c27e7260"
   },
   "outputs": [
    {
     "name": "stdout",
     "output_type": "stream",
     "text": [
      "('optimal', <152x1 matrix, tc='d'>)\n",
      "[14, 15]\n",
      "[16]\n",
      "[22, 27]\n",
      "[15]\n"
     ]
    }
   ],
   "source": [
    "a = solve_solitaire_with_pagoda(pagodas, ps, pf)\n",
    "print(a)\n",
    "a = a[1]\n",
    "solution = [i%76 for i in range(len(a)) if a[i] == 1.0]\n",
    "for j in solution:\n",
    "  print([i for i in range(len(moves)) if moves[i,j] == 1.0])\n",
    "  print([i for i in range(len(moves)) if moves[i,j] == -1.0])"
   ]
  },
  {
   "cell_type": "markdown",
   "metadata": {
    "colab_type": "text",
    "id": "_jBtecsqRH7O"
   },
   "source": [
    "now we try to compare the performance of the solvers with an without the pagoda constraints"
   ]
  },
  {
   "cell_type": "code",
   "execution_count": 0,
   "metadata": {
    "colab": {
     "autoexec": {
      "startup": false,
      "wait_interval": 0
     }
    },
    "colab_type": "code",
    "collapsed": true,
    "id": "ypLOs2odLhng"
   },
   "outputs": [],
   "source": [
    "ps = np.ones(33)\n",
    "ps[16] = 0\n",
    "pf = np.ones(33)\n",
    "pf[0 : 6] = np.zeros(6)\n",
    "pf[8] =0 \n",
    "pf[9]= 0\n",
    "\n",
    "pf[11] = 0\n",
    "pf[15] = 0\n",
    "pf[16]= 0\n",
    "pf[24] = 0 \n",
    "pf[23] = 0\n",
    "pf[29] = 0"
   ]
  },
  {
   "cell_type": "code",
   "execution_count": 27,
   "metadata": {
    "colab": {
     "autoexec": {
      "startup": false,
      "wait_interval": 0
     },
     "base_uri": "https://localhost:8080/",
     "height": 34
    },
    "colab_type": "code",
    "executionInfo": {
     "elapsed": 463,
     "status": "ok",
     "timestamp": 1528663533587,
     "user": {
      "displayName": "Stepan Barrau",
      "photoUrl": "//lh6.googleusercontent.com/-6Vn-43WzAj8/AAAAAAAAAAI/AAAAAAAAA8s/6qQmkMpPKfs/s50-c-k-no/photo.jpg",
      "userId": "111120117213502142987"
     },
     "user_tz": -120
    },
    "id": "ngrcxQkcOgaM",
    "outputId": "533137d8-d86a-4144-b76c-972ed4af79bc"
   },
   "outputs": [
    {
     "name": "stdout",
     "output_type": "stream",
     "text": [
      "4.50611114502e-05\n"
     ]
    }
   ],
   "source": [
    "#here we print the moves : it shows three of holes : the one we take the peg from, the one it jumps over, and where it lands (on its own line)\n",
    "t = time.time()\n",
    "a = solve_solitaire_with_pagoda(pagodas, ps, pf)\n",
    "t_prime = time.time()\n",
    "print(t_prime-t)\n",
    "#print(a)\n",
    "#a = a[1]\n",
    "#solution = [i%76 for i in range(len(a)) if a[i] == 1.0]\n",
    "#for j in solution:\n",
    "#  print([i for i in range(len(moves)) if moves[i,j] == 1.0])\n",
    "#  print([i for i in range(len(moves)) if moves[i,j] == -1.0])"
   ]
  },
  {
   "cell_type": "code",
   "execution_count": 28,
   "metadata": {
    "colab": {
     "autoexec": {
      "startup": false,
      "wait_interval": 0
     },
     "base_uri": "https://localhost:8080/",
     "height": 34
    },
    "colab_type": "code",
    "executionInfo": {
     "elapsed": 1176,
     "status": "ok",
     "timestamp": 1528663535348,
     "user": {
      "displayName": "Stepan Barrau",
      "photoUrl": "//lh6.googleusercontent.com/-6Vn-43WzAj8/AAAAAAAAAAI/AAAAAAAAA8s/6qQmkMpPKfs/s50-c-k-no/photo.jpg",
      "userId": "111120117213502142987"
     },
     "user_tz": -120
    },
    "id": "GdP-yym8OipI",
    "outputId": "ba3fdec4-fb67-4877-b1a0-6c83920993e9"
   },
   "outputs": [
    {
     "name": "stdout",
     "output_type": "stream",
     "text": [
      "5.60283660889e-05\n"
     ]
    }
   ],
   "source": [
    "#here we print the moves : it shows three of holes : the one we take the peg from, the one it jumps over, and where it lands (on its own line)\n",
    "t = time.time()\n",
    "a = solve_solitaire(ps, pf)\n",
    "t_prime = time.time()\n",
    "print(t_prime-t)\n",
    "#print(a)\n",
    "#a = a[1]\n",
    "#solution = [i%76 for i in range(len(a)) if a[i] == 1.0]\n",
    "#for j in solution:\n",
    "#  print([i for i in range(len(moves)) if moves[i,j] == 1.0])\n",
    "#  print([i for i in range(len(moves)) if moves[i,j] == -1.0])"
   ]
  },
  {
   "cell_type": "markdown",
   "metadata": {
    "colab_type": "text",
    "id": "HkYU019XUjuK"
   },
   "source": [
    "We can see that with the pagodas, the search finishes faster, the problem we have tried finishes in 45s with the pagoda functions, and didn't finish at all without them. **Maybe if we had even more pagodas, it would be even faster, as that would help decrease the solution space in which the algorithm does the backtracking. **\n",
    "\n",
    "We have found that adding pagoda functions can, contrarywise, increase the time of executions, perhaps because adding constraints makes each recursive call longer?"
   ]
  },
  {
   "cell_type": "code",
   "execution_count": 0,
   "metadata": {
    "colab": {
     "autoexec": {
      "startup": false,
      "wait_interval": 0
     }
    },
    "colab_type": "code",
    "collapsed": true,
    "id": "ZgZtj0DvWmbx"
   },
   "outputs": [],
   "source": [
    "ps = np.ones(33)\n",
    "ps[16] = 0\n",
    "pf = np.zeros(33)\n",
    "pf[16] = 1"
   ]
  },
  {
   "cell_type": "code",
   "execution_count": 0,
   "metadata": {
    "colab": {
     "autoexec": {
      "startup": false,
      "wait_interval": 0
     }
    },
    "colab_type": "code",
    "collapsed": true,
    "id": "U9LLmZ-IcOuJ"
   },
   "outputs": [],
   "source": [
    "#here we print the moves : it shows three of holes : the one we take the peg from, the one it jumps over, and where it lands (on its own line)\n",
    "t = time.time()\n",
    "a = solve_solitaire_with_pagoda(pagodas, ps, pf)\n",
    "t_prime = time.time()\n",
    "print(t_prime-t)\n",
    "print(a)\n",
    "a = a[1]\n",
    "solution = [i%76 for i in range(len(a)) if a[i] == 1.0]\n",
    "for j in solution:\n",
    "  print([i for i in range(len(moves)) if moves[i,j] == 1.0])\n",
    "  print([i for i in range(len(moves)) if moves[i,j] == -1.0])"
   ]
  },
  {
   "cell_type": "markdown",
   "metadata": {
    "colab_type": "text",
    "id": "2Nd4a6-sfAC-"
   },
   "source": [
    "## Conclusion"
   ]
  },
  {
   "cell_type": "markdown",
   "metadata": {
    "colab_type": "text",
    "id": "Rozx2NaAfDNm"
   },
   "source": [
    "Model A is relatively easy to understand and provides a good first approach to the problem. However, in its naive version, the algorithm takes too long to run. \n",
    "\n",
    "The second model we studied has the advantage of presenting less variables. Pagodas functions were able to help speed up the process, but it still seems to take too long."
   ]
  }
 ],
 "metadata": {
  "colab": {
   "default_view": {},
   "name": "solitaire (2).ipynb",
   "provenance": [],
   "version": "0.3.2",
   "views": {}
  },
  "kernelspec": {
   "display_name": "Python 2",
   "language": "python",
   "name": "python2"
  },
  "language_info": {
   "codemirror_mode": {
    "name": "ipython",
    "version": 2
   },
   "file_extension": ".py",
   "mimetype": "text/x-python",
   "name": "python",
   "nbconvert_exporter": "python",
   "pygments_lexer": "ipython2",
   "version": "2.7.13"
  }
 },
 "nbformat": 4,
 "nbformat_minor": 1
}
